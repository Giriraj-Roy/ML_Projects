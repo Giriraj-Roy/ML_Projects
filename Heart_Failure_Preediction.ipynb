{
 "cells": [
  {
   "cell_type": "code",
   "execution_count": 1,
   "metadata": {},
   "outputs": [],
   "source": [
    "import pandas as pd\n",
    "import numpy as np\n",
    "from sklearn.model_selection import train_test_split\n",
    "\n",
    "\n",
    "df = pd.read_csv(\"E:\\ML\\DataSets\\heart_failure_clinical_records_dataset.csv\")\n",
    "df.dropna()\n",
    "#df.info()\n",
    "y = df.DEATH_EVENT\n",
    "X = df.drop(\"DEATH_EVENT\",axis=1)\n",
    "\n",
    "\n",
    "X_train, X_test, y_train, y_test = train_test_split(X, y, random_state = 42)\n",
    "#X_train.describe()\n",
    "#y_train.head()"
   ]
  },
  {
   "cell_type": "code",
   "execution_count": 2,
   "metadata": {},
   "outputs": [
    {
     "data": {
      "text/plain": [
       "DEATH_EVENT                 1.000000\n",
       "serum_creatinine            0.294278\n",
       "age                         0.253729\n",
       "high_blood_pressure         0.079351\n",
       "anaemia                     0.066270\n",
       "creatinine_phosphokinase    0.062728\n",
       "diabetes                   -0.001943\n",
       "sex                        -0.004316\n",
       "smoking                    -0.012623\n",
       "platelets                  -0.049139\n",
       "serum_sodium               -0.195204\n",
       "ejection_fraction          -0.268603\n",
       "time                       -0.526964\n",
       "Name: DEATH_EVENT, dtype: float64"
      ]
     },
     "execution_count": 2,
     "metadata": {},
     "output_type": "execute_result"
    }
   ],
   "source": [
    "co_rel=df.corr()\n",
    "co_rel[\"DEATH_EVENT\"].sort_values(ascending = False)"
   ]
  },
  {
   "cell_type": "code",
   "execution_count": 3,
   "metadata": {},
   "outputs": [
    {
     "data": {
      "text/plain": [
       "age                         0.069487\n",
       "anaemia                     0.000000\n",
       "creatinine_phosphokinase    0.016917\n",
       "diabetes                    0.000000\n",
       "ejection_fraction           0.063359\n",
       "high_blood_pressure         0.081732\n",
       "platelets                   0.000000\n",
       "serum_creatinine            0.079886\n",
       "serum_sodium                0.000000\n",
       "sex                         0.000000\n",
       "smoking                     0.000000\n",
       "time                        0.245368\n",
       "Name: Mi Scores, dtype: float64"
      ]
     },
     "execution_count": 3,
     "metadata": {},
     "output_type": "execute_result"
    }
   ],
   "source": [
    "from sklearn.feature_selection import mutual_info_regression\n",
    "\n",
    "mi_scores = mutual_info_regression(X, y)\n",
    "#mi_scores.sort()\n",
    "mi_scores = pd.Series(mi_scores, name= \"Mi Scores\" ,index=X.columns)\n",
    "mi_scores.sort_values(ascending = False)\n",
    "\n",
    "mi_scores"
   ]
  },
  {
   "cell_type": "code",
   "execution_count": 4,
   "metadata": {},
   "outputs": [
    {
     "data": {
      "image/png": "[encoded data removed]",
      "text/plain": [
       "<Figure size 432x288 with 1 Axes>"
      ]
     },
     "metadata": {
      "needs_background": "light"
     },
     "output_type": "display_data"
    }
   ],
   "source": [
    "import matplotlib.pyplot as plt\n",
    "import seaborn as sns\n",
    "\n",
    "#sns.set_theme(style= \"darkgrid\")\n",
    "\n",
    "#sns.jointplot(y=df[\"smoking\"], x=df[\"DEATH_EVENT\"] ,kind=\"kde\")\n",
    "\n",
    "\n",
    "mi_scores.sort_values(ascending = True)\n",
    "plt.barh(np.arange(len(mi_scores)), mi_scores)\n",
    "plt.yticks(np.arange(len(mi_scores)), list(mi_scores.index))\n",
    "\n",
    "plt.show()"
   ]
  },
  {
   "cell_type": "code",
   "execution_count": 5,
   "metadata": {},
   "outputs": [
    {
     "data": {
      "text/plain": [
       "Index(['age', 'anaemia', 'creatinine_phosphokinase', 'diabetes',\n",
       "       'ejection_fraction', 'high_blood_pressure', 'platelets',\n",
       "       'serum_creatinine', 'serum_sodium', 'sex', 'smoking', 'time',\n",
       "       'DEATH_EVENT'],\n",
       "      dtype='object')"
      ]
     },
     "execution_count": 5,
     "metadata": {},
     "output_type": "execute_result"
    }
   ],
   "source": [
    "df.columns"
   ]
  },
  {
   "cell_type": "code",
   "execution_count": 6,
   "metadata": {},
   "outputs": [],
   "source": [
    "\n",
    "\n",
    "#features = [\"time\", \"age\", \"serum_creatinine\", \"ejection_fraction\", \"serum_sodium\", \"high_blood_pressure\", ]\n",
    "features = [ 'time', \"serum_creatinine\", \"ejection_fraction\", \"creatinine_phosphokinase\", \"high_blood_pressure\", ]\n",
    "#features = [ 'serum_creatinine', 'age', 'high_blood_pressure', 'anaemia', 'creatinine_phosphokinase']\n",
    "\n",
    "X_train_upd = X_train[features]\n",
    "X_train_upd.head()\n",
    "X_test_up = X_test[features]"
   ]
  },
  {
   "cell_type": "code",
   "execution_count": 7,
   "metadata": {},
   "outputs": [],
   "source": [
    "from sklearn.pipeline import Pipeline\n",
    "#from sklearn.ensemble import RandomForestClassifier\n",
    "from sklearn.linear_model import LogisticRegression\n",
    "#from sklearn.neural_network import MLPClassifier ## worst precision and f1-score; best recall highly unstable\n",
    "\n",
    "\n",
    "my_pipeline = Pipeline( steps = [\n",
    "    ( 'model', LogisticRegression(random_state=42))\n",
    "])\n",
    "\n"
   ]
  },
  {
   "cell_type": "code",
   "execution_count": 8,
   "metadata": {},
   "outputs": [
    {
     "data": {
      "text/plain": [
       "Pipeline(steps=[('model', LogisticRegression(random_state=42))])"
      ]
     },
     "execution_count": 8,
     "metadata": {},
     "output_type": "execute_result"
    }
   ],
   "source": [
    "my_pipeline.fit(X_train_upd, y_train)"
   ]
  },
  {
   "cell_type": "code",
   "execution_count": 9,
   "metadata": {},
   "outputs": [],
   "source": [
    "predictions = my_pipeline.predict(X_test_up)"
   ]
  },
  {
   "cell_type": "code",
   "execution_count": 10,
   "metadata": {},
   "outputs": [
    {
     "name": "stdout",
     "output_type": "stream",
     "text": [
      "accuracy  76.0 %\n",
      "precision  0.5806451612903226\n",
      "recall  0.782608695652174\n",
      "f1  0.6666666666666667\n"
     ]
    }
   ],
   "source": [
    "from sklearn.metrics import accuracy_score, precision_score, recall_score, f1_score\n",
    "\n",
    "accuracy = accuracy_score(predictions, y_test)\n",
    "precision = precision_score(predictions, y_test)\n",
    "recall = recall_score(predictions, y_test)\n",
    "f1 = f1_score(predictions, y_test)\n",
    "\n",
    "print ('accuracy ', accuracy*100, '%')\n",
    "print('precision ' , precision)\n",
    "print ( 'recall ', recall)\n",
    "print ( 'f1 ', f1)"
   ]
  },
  {
   "cell_type": "code",
   "execution_count": null,
   "metadata": {},
   "outputs": [],
   "source": []
  }
 ],
 "metadata": {
  "kernelspec": {
   "display_name": "Python 3",
   "language": "python",
   "name": "python3"
  },
  "language_info": {
   "codemirror_mode": {
    "name": "ipython",
    "version": 3
   },
   "file_extension": ".py",
   "mimetype": "text/x-python",
   "name": "python",
   "nbconvert_exporter": "python",
   "pygments_lexer": "ipython3",
   "version": "3.8.3"
  }
 },
 "nbformat": 4,
 "nbformat_minor": 4
}
