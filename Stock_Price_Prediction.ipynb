{
 "cells": [
  {
   "cell_type": "markdown",
   "metadata": {},
   "source": [
    "!pip install --user tensorflow"
   ]
  },
  {
   "cell_type": "code",
   "execution_count": 1,
   "metadata": {},
   "outputs": [],
   "source": [
    "import tensorflow as tf\n",
    "import keras\n",
    "\n",
    "import pandas as pd\n",
    "import numpy as np\n"
   ]
  },
  {
   "cell_type": "code",
   "execution_count": 2,
   "metadata": {},
   "outputs": [
    {
     "data": {
      "text/html": [
       "<div>\n",
       "<style scoped>\n",
       "    .dataframe tbody tr th:only-of-type {\n",
       "        vertical-align: middle;\n",
       "    }\n",
       "\n",
       "    .dataframe tbody tr th {\n",
       "        vertical-align: top;\n",
       "    }\n",
       "\n",
       "    .dataframe thead th {\n",
       "        text-align: right;\n",
       "    }\n",
       "</style>\n",
       "<table border=\"1\" class=\"dataframe\">\n",
       "  <thead>\n",
       "    <tr style=\"text-align: right;\">\n",
       "      <th></th>\n",
       "      <th>Date</th>\n",
       "      <th>Open</th>\n",
       "      <th>High</th>\n",
       "      <th>Low</th>\n",
       "      <th>Close</th>\n",
       "      <th>Adj Close</th>\n",
       "      <th>Volume</th>\n",
       "    </tr>\n",
       "  </thead>\n",
       "  <tbody>\n",
       "    <tr>\n",
       "      <th>0</th>\n",
       "      <td>2011-07-11</td>\n",
       "      <td>263.103821</td>\n",
       "      <td>266.989258</td>\n",
       "      <td>261.768829</td>\n",
       "      <td>262.655518</td>\n",
       "      <td>262.655518</td>\n",
       "      <td>5699885</td>\n",
       "    </tr>\n",
       "    <tr>\n",
       "      <th>1</th>\n",
       "      <td>2011-07-12</td>\n",
       "      <td>263.093872</td>\n",
       "      <td>268.702850</td>\n",
       "      <td>262.017883</td>\n",
       "      <td>266.007935</td>\n",
       "      <td>266.007935</td>\n",
       "      <td>5703699</td>\n",
       "    </tr>\n",
       "    <tr>\n",
       "      <th>2</th>\n",
       "      <td>2011-07-13</td>\n",
       "      <td>267.497345</td>\n",
       "      <td>270.984283</td>\n",
       "      <td>267.238312</td>\n",
       "      <td>268.125000</td>\n",
       "      <td>268.125000</td>\n",
       "      <td>5601317</td>\n",
       "    </tr>\n",
       "    <tr>\n",
       "      <th>3</th>\n",
       "      <td>2011-07-14</td>\n",
       "      <td>268.553406</td>\n",
       "      <td>269.988007</td>\n",
       "      <td>262.381531</td>\n",
       "      <td>263.482391</td>\n",
       "      <td>263.482391</td>\n",
       "      <td>13348848</td>\n",
       "    </tr>\n",
       "    <tr>\n",
       "      <th>4</th>\n",
       "      <td>2011-07-15</td>\n",
       "      <td>297.634399</td>\n",
       "      <td>299.004272</td>\n",
       "      <td>292.981842</td>\n",
       "      <td>297.694183</td>\n",
       "      <td>297.694183</td>\n",
       "      <td>27567143</td>\n",
       "    </tr>\n",
       "  </tbody>\n",
       "</table>\n",
       "</div>"
      ],
      "text/plain": [
       "         Date        Open        High         Low       Close   Adj Close  \\\n",
       "0  2011-07-11  263.103821  266.989258  261.768829  262.655518  262.655518   \n",
       "1  2011-07-12  263.093872  268.702850  262.017883  266.007935  266.007935   \n",
       "2  2011-07-13  267.497345  270.984283  267.238312  268.125000  268.125000   \n",
       "3  2011-07-14  268.553406  269.988007  262.381531  263.482391  263.482391   \n",
       "4  2011-07-15  297.634399  299.004272  292.981842  297.694183  297.694183   \n",
       "\n",
       "     Volume  \n",
       "0   5699885  \n",
       "1   5703699  \n",
       "2   5601317  \n",
       "3  13348848  \n",
       "4  27567143  "
      ]
     },
     "execution_count": 2,
     "metadata": {},
     "output_type": "execute_result"
    }
   ],
   "source": [
    "df =  pd.read_csv(\"E:\\ML\\DataSets\\GOOG.csv\")\n",
    "\n",
    "#type(df)\n",
    "df.head()\n",
    "\n",
    "#df.shape\n"
   ]
  },
  {
   "cell_type": "code",
   "execution_count": 3,
   "metadata": {},
   "outputs": [],
   "source": [
    "train_index = int((df.shape[0])*0.8)\n",
    "\n",
    "train_data = df.iloc[:train_index, 1:2].values\n",
    "test_data = df.iloc[train_index:, 1:2].values\n",
    "\n",
    "#train_data.shape"
   ]
  },
  {
   "cell_type": "markdown",
   "metadata": {},
   "source": [
    "___Every Data mentioned now is train_data ## training data ##___"
   ]
  },
  {
   "cell_type": "code",
   "execution_count": 4,
   "metadata": {},
   "outputs": [],
   "source": [
    "from sklearn.preprocessing import MinMaxScaler\n",
    "from sklearn.metrics import mean_absolute_error\n",
    "from sklearn.metrics import mean_squared_error\n",
    "\n",
    "scaler = MinMaxScaler(feature_range = (0,3))\n",
    "\n",
    "scaled_data = scaler.fit_transform(train_data)"
   ]
  },
  {
   "cell_type": "code",
   "execution_count": 5,
   "metadata": {},
   "outputs": [],
   "source": [
    "X_train = []\n",
    "y_train = []\n",
    "\n",
    "time_steps = 50\n",
    "\n",
    "for i in range(time_steps,train_index):\n",
    "    X_train.append(scaled_data[i-time_steps:i , 0 ])\n",
    "    y_train.append(scaled_data[i, 0 ])\n",
    "    \n",
    "    \n"
   ]
  },
  {
   "cell_type": "code",
   "execution_count": 6,
   "metadata": {},
   "outputs": [],
   "source": [
    "X_train = np.array(X_train)\n",
    "y_train = np.array(y_train)\n",
    "\n",
    "#X_train.shape\n",
    "dimension = 1\n",
    "\n",
    "X_train = np.reshape( X_train, ( train_index-time_steps, time_steps, dimension ) )"
   ]
  },
  {
   "cell_type": "markdown",
   "metadata": {},
   "source": [
    "___Preparing the ML model___"
   ]
  },
  {
   "cell_type": "code",
   "execution_count": 7,
   "metadata": {},
   "outputs": [
    {
     "name": "stdout",
     "output_type": "stream",
     "text": [
      "Epoch 1/70\n",
      "100/100 [==============================] - 26s 142ms/step - loss: 0.0894\n",
      "Epoch 2/70\n",
      "100/100 [==============================] - 15s 145ms/step - loss: 0.0157\n",
      "Epoch 3/70\n",
      "100/100 [==============================] - 14s 143ms/step - loss: 0.0125\n",
      "Epoch 4/70\n",
      "100/100 [==============================] - 14s 138ms/step - loss: 0.0147\n",
      "Epoch 5/70\n",
      "100/100 [==============================] - 13s 132ms/step - loss: 0.0144\n",
      "Epoch 6/70\n",
      "100/100 [==============================] - 14s 136ms/step - loss: 0.0117\n",
      "Epoch 7/70\n",
      "100/100 [==============================] - 14s 138ms/step - loss: 0.0193\n",
      "Epoch 8/70\n",
      "100/100 [==============================] - 13s 132ms/step - loss: 0.0136\n",
      "Epoch 9/70\n",
      "100/100 [==============================] - 13s 127ms/step - loss: 0.0193\n",
      "Epoch 10/70\n",
      "100/100 [==============================] - 13s 134ms/step - loss: 0.0103\n",
      "Epoch 11/70\n",
      "100/100 [==============================] - 14s 136ms/step - loss: 0.0116\n",
      "Epoch 12/70\n",
      "100/100 [==============================] - 13s 135ms/step - loss: 0.0106\n",
      "Epoch 13/70\n",
      "100/100 [==============================] - 13s 134ms/step - loss: 0.0112\n",
      "Epoch 14/70\n",
      "100/100 [==============================] - 13s 134ms/step - loss: 0.0114\n",
      "Epoch 15/70\n",
      "100/100 [==============================] - 13s 131ms/step - loss: 0.0096\n",
      "Epoch 16/70\n",
      "100/100 [==============================] - 13s 134ms/step - loss: 0.0098\n",
      "Epoch 17/70\n",
      "100/100 [==============================] - 15s 149ms/step - loss: 0.0090\n",
      "Epoch 18/70\n",
      "100/100 [==============================] - 14s 142ms/step - loss: 0.0103\n",
      "Epoch 19/70\n",
      "100/100 [==============================] - 14s 135ms/step - loss: 0.0114\n",
      "Epoch 20/70\n",
      "100/100 [==============================] - 13s 128ms/step - loss: 0.0119\n",
      "Epoch 21/70\n",
      "100/100 [==============================] - 12s 124ms/step - loss: 0.0081\n",
      "Epoch 22/70\n",
      "100/100 [==============================] - 13s 129ms/step - loss: 0.0081\n",
      "Epoch 23/70\n",
      "100/100 [==============================] - 13s 133ms/step - loss: 0.0093\n",
      "Epoch 24/70\n",
      "100/100 [==============================] - 13s 129ms/step - loss: 0.0085\n",
      "Epoch 25/70\n",
      "100/100 [==============================] - 13s 128ms/step - loss: 0.0098\n",
      "Epoch 26/70\n",
      "100/100 [==============================] - 14s 136ms/step - loss: 0.0077\n",
      "Epoch 27/70\n",
      "100/100 [==============================] - 16s 159ms/step - loss: 0.0077\n",
      "Epoch 28/70\n",
      "100/100 [==============================] - 18s 175ms/step - loss: 0.0072\n",
      "Epoch 29/70\n",
      "100/100 [==============================] - 14s 144ms/step - loss: 0.0086\n",
      "Epoch 30/70\n",
      "100/100 [==============================] - 13s 134ms/step - loss: 0.0079\n",
      "Epoch 31/70\n",
      "100/100 [==============================] - 14s 140ms/step - loss: 0.0084\n",
      "Epoch 32/70\n",
      "100/100 [==============================] - 14s 136ms/step - loss: 0.0075\n",
      "Epoch 33/70\n",
      "100/100 [==============================] - 13s 134ms/step - loss: 0.0078\n",
      "Epoch 34/70\n",
      "100/100 [==============================] - 14s 136ms/step - loss: 0.0073\n",
      "Epoch 35/70\n",
      "100/100 [==============================] - 15s 154ms/step - loss: 0.0076\n",
      "Epoch 36/70\n",
      "100/100 [==============================] - 12s 120ms/step - loss: 0.0074\n",
      "Epoch 37/70\n",
      "100/100 [==============================] - 15s 153ms/step - loss: 0.0075\n",
      "Epoch 38/70\n",
      "100/100 [==============================] - 15s 148ms/step - loss: 0.0080\n",
      "Epoch 39/70\n",
      "100/100 [==============================] - 14s 144ms/step - loss: 0.0078\n",
      "Epoch 40/70\n",
      "100/100 [==============================] - 14s 135ms/step - loss: 0.0067\n",
      "Epoch 41/70\n",
      "100/100 [==============================] - 13s 127ms/step - loss: 0.0076\n",
      "Epoch 42/70\n",
      "100/100 [==============================] - 12s 122ms/step - loss: 0.0075\n",
      "Epoch 43/70\n",
      "100/100 [==============================] - 13s 128ms/step - loss: 0.0068\n",
      "Epoch 44/70\n",
      "100/100 [==============================] - 12s 122ms/step - loss: 0.0085\n",
      "Epoch 45/70\n",
      "100/100 [==============================] - 14s 135ms/step - loss: 0.0080\n",
      "Epoch 46/70\n",
      "100/100 [==============================] - 13s 130ms/step - loss: 0.0059\n",
      "Epoch 47/70\n",
      "100/100 [==============================] - 13s 135ms/step - loss: 0.0058\n",
      "Epoch 48/70\n",
      "100/100 [==============================] - 14s 145ms/step - loss: 0.0062\n",
      "Epoch 49/70\n",
      "100/100 [==============================] - 14s 142ms/step - loss: 0.0068\n",
      "Epoch 50/70\n",
      "100/100 [==============================] - 14s 142ms/step - loss: 0.0074\n",
      "Epoch 51/70\n",
      "100/100 [==============================] - 14s 138ms/step - loss: 0.0057\n",
      "Epoch 52/70\n",
      "100/100 [==============================] - 14s 140ms/step - loss: 0.0070\n",
      "Epoch 53/70\n",
      "100/100 [==============================] - 14s 135ms/step - loss: 0.0057\n",
      "Epoch 54/70\n",
      "100/100 [==============================] - 15s 152ms/step - loss: 0.0055\n",
      "Epoch 55/70\n",
      "100/100 [==============================] - 15s 154ms/step - loss: 0.0061\n",
      "Epoch 56/70\n",
      "100/100 [==============================] - 14s 143ms/step - loss: 0.0060\n",
      "Epoch 57/70\n",
      "100/100 [==============================] - 14s 142ms/step - loss: 0.0058\n",
      "Epoch 58/70\n",
      "100/100 [==============================] - 15s 147ms/step - loss: 0.0057\n",
      "Epoch 59/70\n",
      "100/100 [==============================] - 13s 131ms/step - loss: 0.0064\n",
      "Epoch 60/70\n",
      "100/100 [==============================] - 14s 137ms/step - loss: 0.0060\n",
      "Epoch 61/70\n",
      "100/100 [==============================] - 13s 128ms/step - loss: 0.0061\n",
      "Epoch 62/70\n",
      "100/100 [==============================] - 13s 128ms/step - loss: 0.0059\n",
      "Epoch 63/70\n",
      "100/100 [==============================] - 14s 139ms/step - loss: 0.0051\n",
      "Epoch 64/70\n",
      "100/100 [==============================] - 13s 128ms/step - loss: 0.0059\n",
      "Epoch 65/70\n",
      "100/100 [==============================] - 12s 123ms/step - loss: 0.0059\n",
      "Epoch 66/70\n",
      "100/100 [==============================] - 13s 129ms/step - loss: 0.0052\n",
      "Epoch 67/70\n",
      "100/100 [==============================] - 12s 118ms/step - loss: 0.0054\n",
      "Epoch 68/70\n",
      "100/100 [==============================] - 12s 115ms/step - loss: 0.0057\n",
      "Epoch 69/70\n",
      "100/100 [==============================] - 12s 123ms/step - loss: 0.0051\n",
      "Epoch 70/70\n",
      "100/100 [==============================] - 13s 131ms/step - loss: 0.0057\n"
     ]
    },
    {
     "data": {
      "text/plain": [
       "<keras.callbacks.History at 0x28f21b05cd0>"
      ]
     },
     "execution_count": 7,
     "metadata": {},
     "output_type": "execute_result"
    }
   ],
   "source": [
    "from keras.models import Sequential\n",
    "from keras.layers import Dense, LSTM, Dropout\n",
    "\n",
    "\n",
    "stock_model = Sequential()\n",
    "\n",
    "\n",
    "stock_model.add(LSTM(units = 120, return_sequences = True, input_shape = (X_train.shape[1], 1)))\n",
    "stock_model.add(Dropout(0.2))\n",
    "\n",
    "\n",
    "stock_model.add(LSTM(units = 100, return_sequences = True))\n",
    "stock_model.add(Dropout(0.15))\n",
    "\n",
    "\n",
    "stock_model.add(LSTM(units = 80))\n",
    "stock_model.add(Dropout(0.1))\n",
    "\n",
    "\n",
    "stock_model.add(Dense (units = 1))\n",
    "\n",
    "\n",
    "stock_model.compile(optimizer = \"adam\",  loss = \"mean_squared_error\")\n",
    "\n",
    "stock_model.fit(X_train, y_train, epochs = 70, batch_size = 20)"
   ]
  },
  {
   "cell_type": "markdown",
   "metadata": {},
   "source": [
    "____Model Trained____"
   ]
  },
  {
   "cell_type": "code",
   "execution_count": 8,
   "metadata": {},
   "outputs": [],
   "source": [
    "train_frame = df.iloc[:train_index, 1:2]\n",
    "test_frame = df.iloc[train_index:, 1:2]\n",
    "\n",
    "data_frame = pd.concat((train_frame, test_frame), axis=0)\n",
    "\n",
    "given_input = (data_frame[ len(data_frame)-len(test_frame)-time_steps: ].values).reshape(-1,1)\n",
    "scaled_input = scaler.transform(given_input)"
   ]
  },
  {
   "cell_type": "code",
   "execution_count": 9,
   "metadata": {},
   "outputs": [
    {
     "data": {
      "text/plain": [
       "(508, 1)"
      ]
     },
     "execution_count": 9,
     "metadata": {},
     "output_type": "execute_result"
    }
   ],
   "source": [
    "len(data_frame)\n",
    "test_frame.shape"
   ]
  },
  {
   "cell_type": "markdown",
   "metadata": {},
   "source": [
    "___Generating Test Data___"
   ]
  },
  {
   "cell_type": "code",
   "execution_count": 10,
   "metadata": {},
   "outputs": [
    {
     "data": {
      "text/plain": [
       "(508, 50, 1)"
      ]
     },
     "execution_count": 10,
     "metadata": {},
     "output_type": "execute_result"
    }
   ],
   "source": [
    "test_index = (df.shape[0])-train_index\n",
    "\n",
    "X_test = []\n",
    "for i in range(time_steps,(time_steps+test_frame.shape[0])):\n",
    "    X_test.append(scaled_input[i-time_steps : i, 0 ])\n",
    "\n",
    "X_test = np.array(X_test)\n",
    "X_test = np.reshape( X_test , (X_test.shape[0], X_test.shape[1], dimension))\n",
    "X_test.shape"
   ]
  },
  {
   "cell_type": "markdown",
   "metadata": {},
   "source": [
    "___Stock Model Prediction___"
   ]
  },
  {
   "cell_type": "code",
   "execution_count": 11,
   "metadata": {},
   "outputs": [
    {
     "data": {
      "text/plain": [
       "508"
      ]
     },
     "execution_count": 11,
     "metadata": {},
     "output_type": "execute_result"
    }
   ],
   "source": [
    "stock_prediction = scaler.inverse_transform(stock_model.predict(X_test))\n",
    "len(stock_prediction)"
   ]
  },
  {
   "cell_type": "markdown",
   "metadata": {},
   "source": [
    "___DATA VISUALISATION___"
   ]
  },
  {
   "cell_type": "code",
   "execution_count": 12,
   "metadata": {},
   "outputs": [
    {
     "data": {
      "image/png": "[encoded data removed]",
      "text/plain": [
       "<Figure size 432x288 with 1 Axes>"
      ]
     },
     "metadata": {
      "needs_background": "light"
     },
     "output_type": "display_data"
    }
   ],
   "source": [
    "from matplotlib import pyplot as plt\n",
    "\n",
    "\n",
    "plt.plot(df.loc[train_index : , 'Date'], test_frame.values, label=\"Actual price\")\n",
    "plt.plot(df.loc[train_index : , 'Date'], stock_prediction, label=\"Predicted price\")\n",
    "plt.legend()\n",
    "plt.show()"
   ]
  },
  {
   "cell_type": "code",
   "execution_count": null,
   "metadata": {},
   "outputs": [],
   "source": []
  }
 ],
 "metadata": {
  "kernelspec": {
   "display_name": "Python 3",
   "language": "python",
   "name": "python3"
  },
  "language_info": {
   "codemirror_mode": {
    "name": "ipython",
    "version": 3
   },
   "file_extension": ".py",
   "mimetype": "text/x-python",
   "name": "python",
   "nbconvert_exporter": "python",
   "pygments_lexer": "ipython3",
   "version": "3.8.3"
  }
 },
 "nbformat": 4,
 "nbformat_minor": 4
}
